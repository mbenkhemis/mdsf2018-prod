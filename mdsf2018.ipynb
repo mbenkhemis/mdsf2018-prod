{
 "cells": [
  {
   "cell_type": "code",
   "execution_count": 1,
   "metadata": {
    "collapsed": false,
    "deletable": true,
    "editable": true
   },
   "outputs": [
    {
     "data": {
      "text/html": [
       "<style>.container { width:100% !important; }</style>"
      ],
      "text/plain": [
       "<IPython.core.display.HTML object>"
      ]
     },
     "metadata": {},
     "output_type": "display_data"
    }
   ],
   "source": [
    "from sklearn.base import TransformerMixin, BaseEstimator\n",
    "from sklearn.preprocessing import LabelEncoder, OneHotEncoder\n",
    "from sklearn.feature_extraction.text import TfidfVectorizer, CountVectorizer\n",
    "from sklearn.utils import shuffle\n",
    "\n",
    "import xgboost as xgb\n",
    "\n",
    "from sklearn_pandas import DataFrameMapper\n",
    "\n",
    "from scipy.sparse import csr_matrix\n",
    "\n",
    "import numpy as np\n",
    "\n",
    "import pandas as pd\n",
    "\n",
    "import matplotlib.pyplot as plt\n",
    "\n",
    "import nltk\n",
    "from nltk import SnowballStemmer\n",
    "from nltk.corpus import stopwords\n",
    "\n",
    "from stop_words import get_stop_words\n",
    "\n",
    "import unicodedata\n",
    "import string\n",
    "\n",
    "import io\n",
    "import math\n",
    "import requests\n",
    "\n",
    "from IPython.core.display import display, HTML\n",
    "display(HTML(\"<style>.container { width:100% !important; }</style>\"))\n",
    "pd.set_option('max_columns', 200)"
   ]
  },
  {
   "cell_type": "markdown",
   "metadata": {},
   "source": [
    "# Helper fuctions and classes"
   ]
  },
  {
   "cell_type": "code",
   "execution_count": 2,
   "metadata": {
    "collapsed": false,
    "deletable": true,
    "editable": true,
    "scrolled": false
   },
   "outputs": [],
   "source": [
    "def get_xgb_prediction(number_round, params, train_df, test_df, target_df):\n",
    "    d_train = xgb.DMatrix(csr_matrix(train_df), label=target_df)\n",
    "    d_test = xgb.DMatrix(csr_matrix(test_df))\n",
    "    print('training')\n",
    "    classifier = xgb.train(params, d_train, number_round)\n",
    "    print('predicting')\n",
    "    preds = classifier.predict(d_test, ntree_limit=number_round if params['booster'] == 'dart' else 0)\n",
    "    return classifier, preds\n",
    "\n",
    "\n",
    "comma_tokenizer=lambda s: s.split(',')\n",
    "space_tokenizer=lambda s: s.split()\n",
    "undescore_tokenizer=lambda s: s.split('_')\n",
    "dot_tokenizer=lambda s: s.split('.')\n",
    "\n",
    "\n",
    "class GetCounter(TransformerMixin, BaseEstimator):\n",
    "    def __init__(self, field, by_field):\n",
    "        self.field = field\n",
    "        self.by_field = by_field\n",
    "        self.count_map = None\n",
    "\n",
    "    def fit(self, X):\n",
    "        assert self.field in X.columns and self.by_field in X.columns\n",
    "        tmp = X[[self.by_field, self.field]].copy()\n",
    "        tmp[self.field].fillna('xxx', inplace=True)\n",
    "        self.count_map = tmp.groupby([self.by_field])\\\n",
    "            .count()[[self.field]]\\\n",
    "            .rename(columns={self.field: 'count_of_' + self.field + '_by_' + str(self.by_field)})\n",
    "        return self\n",
    "\n",
    "    def transform(self, X, y=None):\n",
    "        return X[[self.by_field]]\\\n",
    "            .merge(self.count_map, left_on=self.by_field, right_index=True, how='left')\\\n",
    "            .drop(columns=[self.by_field])\n",
    "\n",
    "\n",
    "class GetDistinctCounter(TransformerMixin, BaseEstimator):\n",
    "    def __init__(self, field, by_field):\n",
    "        self.field = field\n",
    "        self.by_field = by_field\n",
    "        self.count_map = None\n",
    "\n",
    "    def fit(self, X):\n",
    "        assert self.field in X.columns and self.by_field in X.columns\n",
    "        tmp = X[[self.by_field, self.field]].copy()\n",
    "        tmp[self.field].fillna('xxx', inplace=True)\n",
    "        tmp = tmp.drop_duplicates()\n",
    "        self.count_map = tmp.groupby([self.by_field])\\\n",
    "            .count()[[self.field]]\\\n",
    "            .rename(columns={self.field: 'distinct_count_of_' + self.field + '_by_' + str(self.by_field)})\n",
    "        return self\n",
    "\n",
    "    def transform(self, X, y=None):\n",
    "        return X[[self.by_field]]\\\n",
    "            .merge(self.count_map, left_on=self.by_field, right_index=True, how='left')\\\n",
    "            .drop(columns=[self.by_field])\n",
    "\n",
    "\n",
    "class UrlImageSplitter(TransformerMixin, BaseEstimator):\n",
    "    def __init__(self): pass\n",
    "\n",
    "    def fit(self, X): return self\n",
    "\n",
    "    def transform(self, X, y=None):\n",
    "        return X.str.split('/', expand=True).iloc[:, 5:].rename(columns='url_image_{}'.format)\n",
    "\n",
    "\n",
    "class LengthExtractor(TransformerMixin, BaseEstimator):\n",
    "    def __init__(self): pass\n",
    "\n",
    "    def fit(self, X): return self\n",
    "\n",
    "    def transform(self, X, y=None):\n",
    "        return X.str.len()\n",
    "\n",
    "\n",
    "class StrCast(TransformerMixin, BaseEstimator):\n",
    "    def __init__(self): pass\n",
    "\n",
    "    def fit(self, X): return self\n",
    "\n",
    "    def transform(self, X, y=None):\n",
    "        return X.astype(str)\n",
    "\n",
    "\n",
    "class Product(TransformerMixin, BaseEstimator):\n",
    "    def __init__(self): pass\n",
    "\n",
    "    def fit(self, X): return self\n",
    "\n",
    "    def transform(self, X, y=None):\n",
    "\n",
    "        return X.product(axis=1)\n",
    "\n",
    "\n",
    "def rm_accent(input_str):\n",
    "    return unicodedata.normalize('NFKD', input_str.decode('utf8', 'ignore'))\\\n",
    "        .encode('ASCII', 'ignore')\\\n",
    "        .replace('\\n', ' ')\\\n",
    "        .translate(None, string.punctuation)\n",
    "\n",
    "\n",
    "class Formatter(TransformerMixin, BaseEstimator):\n",
    "    def __init__(self): pass\n",
    "\n",
    "    def fit(self, X): return self\n",
    "\n",
    "    def transform(self, X, y=None):\n",
    "        return X.apply(rm_accent)\n",
    "\n",
    "\n",
    "class Stemmer(TransformerMixin, BaseEstimator):\n",
    "    def __init__(self): pass\n",
    "\n",
    "    def fit(self, X): return self\n",
    "\n",
    "    def transform(self, X, y=None):\n",
    "        ss = SnowballStemmer('french', ignore_stopwords=True)\n",
    "        return X.apply(nltk.word_tokenize, language='french')\\\n",
    "            .apply(lambda tokens: \" \".join(ss.stem(token) for token in tokens))\n",
    "\n",
    "\n",
    "class NaFiller(BaseEstimator, TransformerMixin):\n",
    "\n",
    "    def __init__(self, kind=None):\n",
    "        self.kind = kind\n",
    "        self.to_fill = None\n",
    "\n",
    "    def fit(self, x, y=None):\n",
    "        if isinstance(self.kind, (int, float)):\n",
    "            self.to_fill = self.kind\n",
    "        elif self.kind == 'top':\n",
    "            self.to_fill = x.describe().top\n",
    "        elif self.kind == 'mean':\n",
    "            self.to_fill = x.mean()\n",
    "        elif self.kind == 'max':\n",
    "            self.to_fill = x.max()\n",
    "        elif self.kind == 'median':\n",
    "            self.to_fill = x.median()\n",
    "        elif self.kind is None:\n",
    "            self.to_fill = 'unknown'\n",
    "        else:\n",
    "            self.to_fill = self.kind\n",
    "        return self\n",
    "\n",
    "    def transform(self, x):\n",
    "        return x.fillna(self.to_fill)\n",
    "\n",
    "\n",
    "class LogTransformer(TransformerMixin, BaseEstimator):\n",
    "    def __init__(self): pass\n",
    "\n",
    "    def fit(self, X): return self\n",
    "\n",
    "    def transform(self, X, y=None):\n",
    "        return np.log(X+1)\n",
    "\n",
    "\n",
    "class Reshaper(TransformerMixin, BaseEstimator):\n",
    "    def __init__(self): pass\n",
    "\n",
    "    def fit(self, X): return self\n",
    "\n",
    "    def transform(self, X, y=None):\n",
    "        return X.reshape(-1, 1)\n",
    "\n",
    "\n",
    "class Densifier(TransformerMixin, BaseEstimator):\n",
    "    def __init__(self): pass\n",
    "\n",
    "    def fit(self, X): return self\n",
    "\n",
    "    def transform(self, X, y=None):\n",
    "        return X.todense()\n",
    "\n",
    "\n",
    "class Lowerizer(TransformerMixin, BaseEstimator):\n",
    "    def __init__(self): pass\n",
    "\n",
    "    def fit(self, X): return self\n",
    "\n",
    "    def transform(self, X, y=None):\n",
    "        return X.str.lower()\n",
    "\n",
    "\n",
    "class Splitter(TransformerMixin, BaseEstimator):\n",
    "    def __init__(self,separator=None): self.separator=separator\n",
    "\n",
    "    def fit(self, X): return self\n",
    "\n",
    "    def transform(self, X, y=None):\n",
    "        return X.str.split(self.separator)\n",
    "\n",
    "\n",
    "class LengthCounter(TransformerMixin, BaseEstimator):\n",
    "    def __init__(self): pass\n",
    "\n",
    "    def fit(self, X): return self\n",
    "\n",
    "    def transform(self, X, y=None):\n",
    "        return X.str.len()\n",
    "\n",
    "\n",
    "class ContentChecker(TransformerMixin, BaseEstimator):\n",
    "    def __init__(self,*elts):\n",
    "        self.elts = elts\n",
    "\n",
    "    def fit(self, X, y=None): return self\n",
    "\n",
    "    def transform(self, X):\n",
    "        return (pd.concat([X.str.contains(i) for i in self.elts], axis=1).any(1) * X)\\\n",
    "            .replace(r'^\\s*$', np.nan, regex=True)\n",
    "\n",
    "\n",
    "class NumericChecker(TransformerMixin, BaseEstimator):\n",
    "    def __init__(self, *elts):\n",
    "        self.elts = elts\n",
    "\n",
    "    def fit(self, X, y=None): return self\n",
    "\n",
    "    def transform(self, X):\n",
    "        return X.str.isnumeric() * X\n",
    "\n",
    "\n",
    "class SizeMapper(BaseEstimator, TransformerMixin):\n",
    "    def __init__(self, **sml_map):\n",
    "        self.sml_map = sml_map\n",
    "\n",
    "    def fit(self, X, y=None): return self\n",
    "\n",
    "    def transform(self, X):\n",
    "        return X.replace(self.sml_map)\n",
    "\n",
    "\n",
    "class NumericCast(TransformerMixin, BaseEstimator):\n",
    "    def __init__(self): pass\n",
    "\n",
    "    def fit(self, X): return self\n",
    "\n",
    "    def transform(self, X, y=None):\n",
    "        return pd.to_numeric(X)\n",
    "\n",
    "\n",
    "def cv_combination(row, xgb_params_, d_train_,\n",
    "                   num_boost_round=100000,\n",
    "                   n_folds_=5,\n",
    "                   early_stopping_rounds=200,\n",
    "                   verbose_eval=100,\n",
    "                   seed=0,\n",
    "                   metrics='mlogloss'):\n",
    "    param_names = row.index.difference(['mlogloss', 'nb_rounds'])\n",
    "    params_dict = row.loc[param_names].to_dict()\n",
    "    print \"CV with {}\".format(\", \".join(\"{k}={v}\".format(k=k, v=v) for k, v in params_dict.iteritems()))\n",
    "    xgb_params_.update(params_dict)\n",
    "    cv_results = xgb.cv(\n",
    "        xgb_params_,\n",
    "        d_train_,\n",
    "        num_boost_round=num_boost_round,\n",
    "        nfold=n_folds_,\n",
    "        early_stopping_rounds=early_stopping_rounds,\n",
    "        verbose_eval=verbose_eval,\n",
    "        show_stdv=True,\n",
    "        seed=seed,\n",
    "        metrics=metrics,\n",
    "    )\n",
    "    mean_mlogloss = cv_results['test-mlogloss-mean'].min()\n",
    "    boost_rounds = cv_results['test-mlogloss-mean'].idxmin()\n",
    "    print(\"\\tlogloss {} for {} rounds\".format(mean_mlogloss, boost_rounds))\n",
    "    print '-'*100\n",
    "    return pd.Series([mean_mlogloss, boost_rounds])\n",
    "\n",
    "\n",
    "def cv_tune(train_data, train_target, xgb_params_,\n",
    "            tune_params_,\n",
    "            num_boost_round=100000,\n",
    "            n_folds_=5,\n",
    "            early_stopping_rounds=200,\n",
    "            verbose_eval=100,\n",
    "            seed=0,\n",
    "            metrics='mlogloss'):\n",
    "    print \"=\"*120\n",
    "    tuning_df = shuffle(pd.DataFrame(\n",
    "        index=pd.MultiIndex.from_product(tune_params_.values(), names=tune_params_.keys()),\n",
    "        columns=['mlogloss', 'nb_rounds']\n",
    "    ).reset_index())\n",
    "    d_train = xgb.DMatrix(csr_matrix(train_data), label=train_target)\n",
    "    tuning_df.loc[:, ['mlogloss', 'nb_rounds']] = tuning_df.apply(\n",
    "        cv_combination,\n",
    "        xgb_params_=xgb_params_,\n",
    "        d_train_=d_train,\n",
    "        num_boost_round=num_boost_round,\n",
    "        n_folds_=n_folds_,\n",
    "        early_stopping_rounds=early_stopping_rounds,\n",
    "        verbose_eval=verbose_eval,\n",
    "        seed=seed,\n",
    "        metrics=metrics,\n",
    "        axis=1).values\n",
    "    best_iteration = tuning_df.loc[[tuning_df.mlogloss.idxmin()]]\n",
    "    best_params_ = best_iteration.drop(columns=['mlogloss', 'nb_rounds']).iloc[0].to_dict()\n",
    "    nb_rounds = best_iteration.iloc[0]['nb_rounds']\n",
    "    return nb_rounds, best_params_\n",
    "\n",
    "\n",
    "# Ne fonctionne qu'en Python2, voir commentaire ci-dessous pour Python3\n",
    "def submit_prediction(df, token, sep=',', **kwargs):\n",
    "    # TOKEN a recuperer sur la plateforme: \"Submissions\" > \"Submit from your Python Notebook\"\n",
    "    TOKEN = token  # https://qscore.meilleurdatascientistdefrance.com/competitions/\n",
    "    URL = 'https://qscore.meilleurdatascientistdefrance.com/api/submissions'\n",
    "    buffer_ = io.BytesIO()  # Python 2\n",
    "    #     buffer = io.StringIO() # Python 3\n",
    "    df.to_csv(buffer_, sep=sep, **kwargs)\n",
    "    buffer_.seek(0)\n",
    "    r = requests.post(URL, headers={'Authorization': 'Bearer {}'.format(TOKEN)}, files={'datafile': buffer})\n",
    "    if r.status_code == 429:\n",
    "        raise Exception('Submissions are too close. Next submission is only allowed in {} seconds.'\n",
    "                        .format(int(math.ceil(int(r.headers['x-rate-limit-remaining']) / 1000.0))))\n",
    "    if r.status_code != 200:\n",
    "        raise Exception(r.text)"
   ]
  },
  {
   "cell_type": "markdown",
   "metadata": {},
   "source": [
    "# Load data"
   ]
  },
  {
   "cell_type": "code",
   "execution_count": 3,
   "metadata": {
    "collapsed": false
   },
   "outputs": [],
   "source": [
    "train = pd.read_csv(\"data/X_train.csv\", index_col=0, error_bad_lines=False)\n",
    "test = pd.read_csv(\"data/X_test.csv\", index_col=0, error_bad_lines=False)\n",
    "target = pd.read_csv(\"data/y_train.csv\", index_col=0)\n",
    "\n",
    "n_folds = 5\n",
    "my_seed = 0\n",
    "\n",
    "target = target['delai_vente']\n",
    "train_index = train.index\n",
    "\n",
    "train_test = pd.concat((train, test), axis=0).reset_index(drop=True)\n",
    "\n",
    "# create french stop-words list\n",
    "stop_words = list(get_stop_words('fr'))\n",
    "nltk_words = list(stopwords.words('french'))\n",
    "stop_words.extend(nltk_words)"
   ]
  },
  {
   "cell_type": "markdown",
   "metadata": {},
   "source": [
    "# Feature Engineering"
   ]
  },
  {
   "cell_type": "code",
   "execution_count": 4,
   "metadata": {
    "collapsed": false,
    "deletable": true,
    "editable": true,
    "scrolled": false
   },
   "outputs": [],
   "source": [
    "def create_and_fit_mapper(data, tfidf_params_, label_encoded_columns_, numeric_columns_):\n",
    "\n",
    "    mapper_ = DataFrameMapper(\n",
    "        [\n",
    "            (['nom_magasin', 'nom_produit'],\n",
    "             [GetCounter(\"nom_produit\", 'nom_magasin')],\n",
    "             {'alias': 'count_nom_produit_by_nom_magasin'},),\n",
    "\n",
    "            (['nom_magasin', 'nom_produit'],\n",
    "             [GetDistinctCounter(\"nom_produit\", 'nom_magasin')],\n",
    "             {'alias': 'distinct_count_nom_produit_by_nom_magasin'},),\n",
    "\n",
    "            ('sous_categorie_1', [\n",
    "                StrCast(),\n",
    "                TfidfVectorizer(tokenizer=comma_tokenizer, **tfidf_params_),\n",
    "            ],),\n",
    "\n",
    "            ('sous_categorie_2', [\n",
    "                StrCast(),\n",
    "                TfidfVectorizer(**tfidf_params_),\n",
    "            ],),\n",
    "\n",
    "            ('description_produit', [\n",
    "                StrCast(), Formatter(), Stemmer(),\n",
    "                TfidfVectorizer(**tfidf_params_),\n",
    "            ],),\n",
    "        ] + [\n",
    "            (colname,\n",
    "             [StrCast(), LabelEncoder()])\n",
    "            for colname in label_encoded_columns_\n",
    "        ] + [\n",
    "            (colname,\n",
    "             NaFiller(-999))\n",
    "            for colname in numeric_columns_\n",
    "        ],\n",
    "        df_out=True,\n",
    "        input_df=True\n",
    "    )\n",
    "\n",
    "    featurized_ = mapper_.fit_transform(data)\n",
    "\n",
    "    return mapper_, featurized_"
   ]
  },
  {
   "cell_type": "code",
   "execution_count": 5,
   "metadata": {
    "collapsed": false,
    "deletable": true,
    "editable": true,
    "scrolled": false
   },
   "outputs": [],
   "source": [
    "label_encoded_columns = [\n",
    "    'url_image', 'taille', 'matiere', 'age', 'garantie', 'couleur', 'wifi', 'etat', 'vintage',\n",
    "    'marque', 'auteur', 'editions', 'categorie', 'sous_categorie_3', 'sous_categorie_4',\n",
    "    'nom_produit', 'nom_magasin']\n",
    "\n",
    "numeric_columns = ['annee', 'hauteur_produit', 'largeur_image',\n",
    "                   'largeur_produit', 'longueur_image', 'longueur_produit',\n",
    "                   'nb_images', 'poids', 'pointure', 'prix']\n",
    "\n",
    "tfidf_params = dict(analyzer='word',\n",
    "                    ngram_range=(1, 3),\n",
    "                    stop_words=stop_words,\n",
    "                    lowercase=True,\n",
    "                    max_features=50,\n",
    "                    binary=True,\n",
    "                    norm=None,\n",
    "                    use_idf=False,\n",
    "                    strip_accents='ascii',\n",
    "                    )\n",
    "mapper, featurized = create_and_fit_mapper(train_test, tfidf_params, label_encoded_columns, numeric_columns)"
   ]
  },
  {
   "cell_type": "markdown",
   "metadata": {},
   "source": [
    "# Hyperparameters tuning"
   ]
  },
  {
   "cell_type": "code",
   "execution_count": 6,
   "metadata": {
    "collapsed": false,
    "deletable": true,
    "editable": true,
    "scrolled": false
   },
   "outputs": [
    {
     "data": {
      "text/plain": [
       "((8880, 179), (2960, 179))"
      ]
     },
     "execution_count": 6,
     "metadata": {},
     "output_type": "execute_result"
    }
   ],
   "source": [
    "featurized_train = featurized.loc[train_index]\n",
    "featurized_test = featurized.loc[featurized.index.difference(train_index)]\n",
    "featurized_train.shape,featurized_test.shape,"
   ]
  },
  {
   "cell_type": "code",
   "execution_count": 7,
   "metadata": {},
   "outputs": [],
   "source": [
    "# working on a sample : uncomment for a quick run of the code with poor results\n",
    "featurized_train = featurized_train.sample(1000)\n",
    "target = target.loc[featurized_train.index]"
   ]
  },
  {
   "cell_type": "code",
   "execution_count": 8,
   "metadata": {},
   "outputs": [],
   "source": [
    "xgb_params = {\n",
    "    'nthread': 16,\n",
    "    'objective': 'multi:softprob',\n",
    "    'num_class': 3,\n",
    "    'eval_metric': 'mlogloss',\n",
    "    'silent': 1,\n",
    "    'learning_rate': 0.1,\n",
    "    'lambda': 1,\n",
    "    'alpha': 1,\n",
    "}"
   ]
  },
  {
   "cell_type": "code",
   "execution_count": 9,
   "metadata": {},
   "outputs": [
    {
     "name": "stdout",
     "output_type": "stream",
     "text": [
      "========================================================================================================================\n",
      "CV with max_depth=11, min_child_weight=4\n",
      "[0]\ttrain-mlogloss:1.05745+0.00103819\ttest-mlogloss:1.0871+0.00368673\n",
      "[100]\ttrain-mlogloss:0.218336+0.00150271\ttest-mlogloss:1.13034+0.0362067\n",
      "[200]\ttrain-mlogloss:0.1402+0.00107832\ttest-mlogloss:1.20232+0.047873\n",
      "\tlogloss 1.0381768 for 18 rounds\n",
      "----------------------------------------------------------------------------------------------------\n",
      "CV with max_depth=11, min_child_weight=4\n",
      "[0]\ttrain-mlogloss:1.05745+0.00103819\ttest-mlogloss:1.0871+0.00368673\n",
      "[100]\ttrain-mlogloss:0.218336+0.00150271\ttest-mlogloss:1.13034+0.0362067\n",
      "[200]\ttrain-mlogloss:0.1402+0.00107832\ttest-mlogloss:1.20232+0.047873\n",
      "\tlogloss 1.0381768 for 18 rounds\n",
      "----------------------------------------------------------------------------------------------------\n"
     ]
    }
   ],
   "source": [
    "tune_params = {\n",
    "    \"min_child_weight\": [4],  # range(1,12),\n",
    "    \"max_depth\": [11],  # range(1,15),\n",
    "}\n",
    "best_round, best_params = cv_tune(featurized_train, target, xgb_params, tune_params)"
   ]
  },
  {
   "cell_type": "code",
   "execution_count": 10,
   "metadata": {},
   "outputs": [],
   "source": [
    "xgb_params.update(best_params)"
   ]
  },
  {
   "cell_type": "code",
   "execution_count": 11,
   "metadata": {},
   "outputs": [
    {
     "name": "stdout",
     "output_type": "stream",
     "text": [
      "========================================================================================================================\n",
      "CV with subsample=1.0, colsample_bytree=0.4\n",
      "[0]\ttrain-mlogloss:1.0692+0.00227132\ttest-mlogloss:1.09005+0.0011682\n",
      "[100]\ttrain-mlogloss:0.280227+0.00162064\ttest-mlogloss:1.04754+0.0301449\n",
      "[200]\ttrain-mlogloss:0.176879+0.00129491\ttest-mlogloss:1.10933+0.0333335\n",
      "\tlogloss 1.0067214 for 34 rounds\n",
      "----------------------------------------------------------------------------------------------------\n",
      "CV with subsample=1.0, colsample_bytree=0.4\n",
      "[0]\ttrain-mlogloss:1.0692+0.00227132\ttest-mlogloss:1.09005+0.0011682\n",
      "[100]\ttrain-mlogloss:0.280227+0.00162064\ttest-mlogloss:1.04754+0.0301449\n",
      "[200]\ttrain-mlogloss:0.176879+0.00129491\ttest-mlogloss:1.10933+0.0333335\n",
      "\tlogloss 1.0067214 for 34 rounds\n",
      "----------------------------------------------------------------------------------------------------\n"
     ]
    }
   ],
   "source": [
    "tune_params = {\n",
    "    \"subsample\": [1.0],  # np.linspace(.1,1,10),\n",
    "    \"colsample_bytree\": [0.4],  # np.linspace(.1,1,10),\n",
    "}\n",
    "best_round, best_params = cv_tune(featurized_train, target, xgb_params, tune_params)"
   ]
  },
  {
   "cell_type": "code",
   "execution_count": 12,
   "metadata": {},
   "outputs": [
    {
     "data": {
      "text/plain": [
       "{'alpha': 1,\n",
       " 'colsample_bytree': 0.4,\n",
       " 'eval_metric': 'mlogloss',\n",
       " 'lambda': 1,\n",
       " 'learning_rate': 0.1,\n",
       " 'max_depth': 11,\n",
       " 'min_child_weight': 4,\n",
       " 'nthread': 16,\n",
       " 'num_class': 3,\n",
       " 'objective': 'multi:softprob',\n",
       " 'silent': 1,\n",
       " 'subsample': 1.0}"
      ]
     },
     "execution_count": 12,
     "metadata": {},
     "output_type": "execute_result"
    }
   ],
   "source": [
    "xgb_params.update(best_params)\n",
    "xgb_params"
   ]
  },
  {
   "cell_type": "code",
   "execution_count": 13,
   "metadata": {},
   "outputs": [
    {
     "name": "stdout",
     "output_type": "stream",
     "text": [
      "========================================================================================================================\n",
      "CV with one_drop=1, normalize_type=forest, sample_type=weighted, rate_drop=0.05, skip_drop=0.1, booster=dart\n",
      "[0]\ttrain-mlogloss:1.07539+0.00106226\ttest-mlogloss:1.08898+0.00302693\n",
      "[100]\ttrain-mlogloss:0.308638+0.00857189\ttest-mlogloss:1.03411+0.0258856\n",
      "[200]\ttrain-mlogloss:0.222316+0.00199767\ttest-mlogloss:1.0783+0.0307771\n",
      "\tlogloss 1.0051554 for 33 rounds\n",
      "----------------------------------------------------------------------------------------------------\n",
      "CV with one_drop=1, normalize_type=forest, sample_type=weighted, rate_drop=0.05, skip_drop=0.1, booster=dart\n",
      "[0]\ttrain-mlogloss:1.07539+0.00106226\ttest-mlogloss:1.08898+0.00302693\n",
      "[100]\ttrain-mlogloss:0.308638+0.00857189\ttest-mlogloss:1.03411+0.0258856\n",
      "[200]\ttrain-mlogloss:0.222316+0.00199767\ttest-mlogloss:1.0783+0.0307771\n",
      "\tlogloss 1.0051554 for 33 rounds\n",
      "----------------------------------------------------------------------------------------------------\n"
     ]
    }
   ],
   "source": [
    "tune_params = {\n",
    "    'booster': [\"dart\"],\n",
    "    'sample_type': [\"weighted\"],  # ['weighted','uniform'],\n",
    "    'normalize_type': ['forest'],  # ['forest','tree'],\n",
    "    'rate_drop': [0.05],  # np.linspace(0,.9,10),\n",
    "    'one_drop': [1],  # [0,1],\n",
    "    'skip_drop': [.1],  # np.linspace(0,1,11)\n",
    "}\n",
    "best_round, best_params = cv_tune(featurized_train, target, xgb_params, tune_params, verbose_eval=100)"
   ]
  },
  {
   "cell_type": "code",
   "execution_count": 14,
   "metadata": {},
   "outputs": [],
   "source": [
    "tune_params = {\n",
    "    'booster': \"dart\",\n",
    "    'sample_type': \"weighted\",  # ['weighted','uniform'],\n",
    "    'normalize_type': 'forest',  # ['forest','tree'],\n",
    "    'rate_drop': 0.1,  # np.linspace(0,.9,10),\n",
    "    'one_drop': 1,  # [0,1],\n",
    "    'skip_drop': .33,  # np.linspace(0,1,11),\n",
    "}\n",
    "xgb_params.update(tune_params)"
   ]
  },
  {
   "cell_type": "markdown",
   "metadata": {},
   "source": [
    "# train, predict and make submission"
   ]
  },
  {
   "cell_type": "code",
   "execution_count": 15,
   "metadata": {},
   "outputs": [],
   "source": [
    "xgb_params.update({'learning_rate': 0.01})"
   ]
  },
  {
   "cell_type": "code",
   "execution_count": 16,
   "metadata": {
    "collapsed": false,
    "deletable": true,
    "editable": true
   },
   "outputs": [
    {
     "name": "stdout",
     "output_type": "stream",
     "text": [
      "training\n",
      "predicting\n"
     ]
    }
   ],
   "source": [
    "clf, predictions = get_xgb_prediction(best_round, xgb_params, featurized_train, featurized_test, target)\n",
    "df_submission = pd.DataFrame(predictions, index=test.index)\n",
    "df_submission.to_csv(\"xgb.csv\", index_label=\"id\", header=['0', '1', '2'])"
   ]
  },
  {
   "cell_type": "code",
   "execution_count": 17,
   "metadata": {
    "collapsed": false,
    "deletable": true,
    "editable": true
   },
   "outputs": [],
   "source": [
    "# uncomment to make a submission\n",
    "# grab your token here: \"https://qscore.meilleurdatascientistdefrance.com/competitions/\"\n",
    "# submit_prediction(df_submission, token, sep=',', index=True)"
   ]
  },
  {
   "cell_type": "markdown",
   "metadata": {},
   "source": [
    "# plot feature importance"
   ]
  },
  {
   "cell_type": "code",
   "execution_count": 18,
   "metadata": {
    "collapsed": false,
    "scrolled": true
   },
   "outputs": [
    {
     "data": {
      "image/png": "[encoded data removed]",
      "text/plain": [
       "<Figure size 1152x864 with 1 Axes>"
      ]
     },
     "metadata": {},
     "output_type": "display_data"
    }
   ],
   "source": [
    "def plot_xgb_importance(number_round, params, train_df, target_df):\n",
    "    d_train = xgb.DMatrix(csr_matrix(train_df), label=target_df, feature_names=train_df.columns.values)\n",
    "    clf_ = xgb.train(params, d_train, number_round)\n",
    "    fig, ax = plt.subplots(figsize=(16, 12))\n",
    "    xgb.plot_importance(clf_, max_num_features=50, height=0.8, ax=ax)\n",
    "    plt.show()\n",
    "\n",
    "\n",
    "plot_xgb_importance(\n",
    "    best_round,\n",
    "    xgb_params,\n",
    "    featurized_train,\n",
    "    target)"
   ]
  }
 ],
 "metadata": {
  "kernelspec": {
   "display_name": "anaconda",
   "language": "python",
   "name": "anaconda"
  },
  "language_info": {
   "codemirror_mode": {
    "name": "ipython",
    "version": 2
   },
   "file_extension": ".py",
   "mimetype": "text/x-python",
   "name": "python",
   "nbconvert_exporter": "python",
   "pygments_lexer": "ipython2",
   "version": "2.7.15"
  }
 },
 "nbformat": 4,
 "nbformat_minor": 2
}
